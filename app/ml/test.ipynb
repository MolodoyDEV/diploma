{
 "cells": [
  {
   "metadata": {
    "ExecuteTime": {
     "end_time": "2024-12-22T12:47:49.705301Z",
     "start_time": "2024-12-22T12:47:49.693298Z"
    }
   },
   "cell_type": "code",
   "source": [
    "from app.utils import create_pad_sequences, clean_text, load_model, load_tokenizer, BODY_COL_NAME\n",
    "from typing import Dict, Any\n",
    "from deep_translator import GoogleTranslator\n",
    "import pandas as pd\n",
    "\n",
    "ROOT_DIR = '../../'"
   ],
   "id": "7a7680bec54bfc6d",
   "execution_count": 2,
   "outputs": []
  },
  {
   "metadata": {
    "ExecuteTime": {
     "end_time": "2024-12-22T12:47:52.276957Z",
     "start_time": "2024-12-22T12:47:51.184925Z"
    }
   },
   "cell_type": "code",
   "source": [
    "model_by_name: Dict[str, Dict[str, Any]] = {\n",
    "    'fishing': {\n",
    "        'threshold': 0.985,\n",
    "    },\n",
    "    'fraud': {\n",
    "        'threshold': 0.90,\n",
    "    },\n",
    "    'spam': {\n",
    "        'threshold': 0.98,\n",
    "    },\n",
    "}\n",
    "\n",
    "for name in model_by_name.keys():\n",
    "    model_by_name[name]['model'] = load_model(f'{ROOT_DIR}models/{name}')\n",
    "    model_by_name[name]['tokenizer'] = load_tokenizer(f'{ROOT_DIR}tokenizers/{name}')"
   ],
   "id": "a87d39b2143c1f5a",
   "execution_count": 3,
   "outputs": []
  },
  {
   "metadata": {
    "ExecuteTime": {
     "end_time": "2024-12-22T12:47:57.739101Z",
     "start_time": "2024-12-22T12:47:57.731098Z"
    }
   },
   "cell_type": "code",
   "source": [
    "def predict(message: str):\n",
    "    message = clean_text(message)\n",
    "    df = pd.DataFrame([message], columns=[BODY_COL_NAME])\n",
    "\n",
    "    for name, data in model_by_name.items():\n",
    "        tokenizer = data['tokenizer']\n",
    "        model = data['model']\n",
    "        message_pad = create_pad_sequences(tokenizer, df[BODY_COL_NAME])\n",
    "        prediction = model.predict(message_pad)\n",
    "        prediction = prediction[0][0]\n",
    "        print(name, prediction, f'Trigger: {prediction > data[\"threshold\"]}')"
   ],
   "id": "59b9d6ca2bc7d1f8",
   "execution_count": 4,
   "outputs": []
  },
  {
   "metadata": {
    "ExecuteTime": {
     "end_time": "2024-12-22T12:48:01.942315Z",
     "start_time": "2024-12-22T12:47:59.077073Z"
    }
   },
   "cell_type": "code",
   "source": [
    "import sys\n",
    "\n",
    "message = input(\"Enter eMAIL message: \")\n",
    "\n",
    "if not message:\n",
    "    sys.exit(1)\n",
    "\n",
    "translator = GoogleTranslator(source='auto', target='en')\n",
    "message = translator.translate(message)\n",
    "print(message)\n",
    "predict(message)"
   ],
   "id": "28941870fec38ad1",
   "execution_count": 5,
   "outputs": []
  },
  {
   "metadata": {
    "ExecuteTime": {
     "end_time": "2024-12-08T20:31:23.728790Z",
     "start_time": "2024-12-08T20:31:23.714406Z"
    }
   },
   "cell_type": "code",
   "source": "",
   "id": "aff5ef52a812b25a",
   "execution_count": 5,
   "outputs": []
  }
 ],
 "metadata": {
  "kernelspec": {
   "display_name": "Python 3",
   "language": "python",
   "name": "python3"
  },
  "language_info": {
   "codemirror_mode": {
    "name": "ipython",
    "version": 2
   },
   "file_extension": ".py",
   "mimetype": "text/x-python",
   "name": "python",
   "nbconvert_exporter": "python",
   "pygments_lexer": "ipython2",
   "version": "2.7.6"
  }
 },
 "nbformat": 4,
 "nbformat_minor": 5
}
