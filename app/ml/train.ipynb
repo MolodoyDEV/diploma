{
 "cells": [
  {
   "cell_type": "code",
   "id": "initial_id",
   "metadata": {
    "collapsed": true,
    "ExecuteTime": {
     "end_time": "2024-12-08T14:33:48.535206Z",
     "start_time": "2024-12-08T14:33:45.579443Z"
    }
   },
   "source": [
    "import pandas as pd\n",
    "from keras import Model\n",
    "from keras.src.layers import Bidirectional\n",
    "from keras.src.layers import Embedding, LSTM, Dense\n",
    "from keras import Sequential\n",
    "from sklearn.model_selection import train_test_split\n",
    "from typing import Tuple\n",
    "from pathlib import Path\n",
    "from app.utils import create_pad_sequences, clean_text, save_model, create_tokenizer, RANDOM_SEED, BODY_COL_NAME, LABEL_COL_NAME, save_tokenizer\n",
    "from keras.src.legacy.preprocessing.text import Tokenizer"
   ],
   "execution_count": 1,
   "outputs": []
  },
  {
   "metadata": {
    "ExecuteTime": {
     "end_time": "2024-12-08T14:33:48.551210Z",
     "start_time": "2024-12-08T14:33:48.536207Z"
    }
   },
   "cell_type": "code",
   "source": [
    "def read_csv(path: str, body_column_name=BODY_COL_NAME, label_column_name=LABEL_COL_NAME) -> pd.DataFrame:\n",
    "    df = pd.read_csv(path, quotechar='\"', delimiter=',', usecols=[body_column_name, label_column_name])\n",
    "    df = df.reindex(columns=[body_column_name, label_column_name])\n",
    "    df.columns = [BODY_COL_NAME, LABEL_COL_NAME]\n",
    "    return df"
   ],
   "id": "9b50c6facee93e16",
   "execution_count": 2,
   "outputs": []
  },
  {
   "metadata": {
    "ExecuteTime": {
     "end_time": "2024-12-08T14:33:48.566003Z",
     "start_time": "2024-12-08T14:33:48.552211Z"
    }
   },
   "cell_type": "code",
   "source": [
    "def create_model() -> Model:\n",
    "    max_words = 10000\n",
    "    model = Sequential()\n",
    "    model.add(Embedding(input_dim=max_words + 1, output_dim=128))\n",
    "    model.add(Bidirectional(LSTM(units=64)))\n",
    "    model.add(Dense(units=1, activation='sigmoid'))\n",
    "\n",
    "    model.compile(loss='binary_crossentropy', optimizer='adam', metrics=['accuracy'])\n",
    "    print(model.summary())\n",
    "    return model\n",
    "\n"
   ],
   "id": "3c78291e77fa7f96",
   "execution_count": 3,
   "outputs": []
  },
  {
   "metadata": {
    "ExecuteTime": {
     "end_time": "2024-12-08T14:33:48.581006Z",
     "start_time": "2024-12-08T14:33:48.567003Z"
    }
   },
   "cell_type": "code",
   "source": [
    "def train_model(\n",
    "        model: Model,\n",
    "        X_train_pad: pd.DataFrame,\n",
    "        y_train: pd.DataFrame,\n",
    "        X_test_pad: pd.DataFrame,\n",
    "        y_test: pd.DataFrame,\n",
    "        epochs=5,\n",
    "):\n",
    "    history = model.fit(\n",
    "        X_train_pad,\n",
    "        y_train,\n",
    "        epochs=epochs,\n",
    "        batch_size=32,\n",
    "        validation_data=(X_test_pad, y_test)\n",
    "    )"
   ],
   "id": "4bec695489dff7ee",
   "execution_count": 4,
   "outputs": []
  },
  {
   "metadata": {
    "ExecuteTime": {
     "end_time": "2024-12-08T14:33:48.597003Z",
     "start_time": "2024-12-08T14:33:48.582006Z"
    }
   },
   "cell_type": "code",
   "source": [
    "def validate_model(model: Model, X_test: pd.DataFrame, y_test: pd.DataFrame):\n",
    "    loss, accuracy = model.evaluate(X_test, y_test)\n",
    "    print(f'Test Accuracy: {accuracy:.2f}')\n"
   ],
   "id": "dd87905802597d62",
   "execution_count": 5,
   "outputs": []
  },
  {
   "metadata": {
    "ExecuteTime": {
     "end_time": "2024-12-08T14:33:48.612007Z",
     "start_time": "2024-12-08T14:33:48.598003Z"
    }
   },
   "cell_type": "code",
   "source": [
    "def train_test_prepare_data(df: pd.DataFrame) -> Tuple[pd.DataFrame, pd.DataFrame, pd.DataFrame, pd.DataFrame, Tokenizer]:\n",
    "    df[BODY_COL_NAME] = df[BODY_COL_NAME].apply(clean_text)\n",
    "    df = df.loc[df[BODY_COL_NAME].str.len() > 0]\n",
    "    X = df[BODY_COL_NAME]\n",
    "    y = df[LABEL_COL_NAME].values.astype(int)\n",
    "\n",
    "    X_train, X_test, y_train, y_test = train_test_split(X, y, test_size=0.2, random_state=RANDOM_SEED)\n",
    "    tokenizer = create_tokenizer(X_train)\n",
    "    X_train_pad = create_pad_sequences(tokenizer, X_train)\n",
    "    X_test_pad = create_pad_sequences(tokenizer, X_test)\n",
    "\n",
    "    return X_train_pad, X_test_pad, y_train, y_test, tokenizer\n"
   ],
   "id": "ef339d93ada20e0f",
   "execution_count": 6,
   "outputs": []
  },
  {
   "metadata": {
    "ExecuteTime": {
     "end_time": "2024-12-08T14:37:48.434968Z",
     "start_time": "2024-12-08T14:33:48.613007Z"
    }
   },
   "cell_type": "code",
   "source": [
    "data = [\n",
    "    ('data/original/spam.csv', 'text', LABEL_COL_NAME),\n",
    "    ('data/original/fishing.csv', BODY_COL_NAME, LABEL_COL_NAME),\n",
    "    ('data/original/fraud.csv', 'Body', 'Label'),\n",
    "]\n",
    "\n",
    "for file_path, body_col_name, label_col_name in data:\n",
    "    df = read_csv(file_path, body_column_name=body_col_name, label_column_name=label_col_name)\n",
    "    print(file_path)\n",
    "    print(df)\n",
    "    X_train_pad, X_test_pad, y_train, y_test, tokenizer = train_test_prepare_data(df)\n",
    "    model = create_model()\n",
    "    train_model(model, X_train_pad, y_train, X_test_pad, y_test, epochs=3)\n",
    "    validate_model(model, X_test_pad, y_test)\n",
    "    model_name = Path(file_path).name.replace('.csv', '')\n",
    "    save_model(model, f'models/{model_name}')\n",
    "    save_tokenizer(tokenizer, f'tokenizers/{model_name}')\n",
    "\n"
   ],
   "id": "81e792c71aad2556",
   "execution_count": 7,
   "outputs": []
  },
  {
   "metadata": {},
   "cell_type": "code",
   "execution_count": null,
   "source": "",
   "id": "29452eaa3ea7d06a",
   "outputs": []
  }
 ],
 "metadata": {
  "kernelspec": {
   "display_name": "Python 3",
   "language": "python",
   "name": "python3"
  },
  "language_info": {
   "codemirror_mode": {
    "name": "ipython",
    "version": 2
   },
   "file_extension": ".py",
   "mimetype": "text/x-python",
   "name": "python",
   "nbconvert_exporter": "python",
   "pygments_lexer": "ipython2",
   "version": "2.7.6"
  }
 },
 "nbformat": 4,
 "nbformat_minor": 5
}
