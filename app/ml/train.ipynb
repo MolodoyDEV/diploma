{
 "cells": [
  {
   "cell_type": "code",
   "id": "initial_id",
   "metadata": {
    "collapsed": true,
    "ExecuteTime": {
     "end_time": "2024-12-22T18:37:30.136074Z",
     "start_time": "2024-12-22T18:37:30.131073Z"
    }
   },
   "source": [
    "import pandas as pd\n",
    "from keras import Model\n",
    "from keras.src.layers import Bidirectional\n",
    "from keras.src.layers import Embedding, LSTM, Dense\n",
    "from keras import Sequential\n",
    "from sklearn.model_selection import train_test_split\n",
    "from typing import Tuple\n",
    "from pathlib import Path\n",
    "from app.utils import create_pad_sequences, clean_text, save_model, create_tokenizer, RANDOM_SEED, BODY_COL_NAME, LABEL_COL_NAME, save_tokenizer\n",
    "from keras.src.legacy.preprocessing.text import Tokenizer\n",
    "\n",
    "\n",
    "ROOT_DIR = '../../'"
   ],
   "outputs": [],
   "execution_count": 2
  },
  {
   "metadata": {
    "ExecuteTime": {
     "end_time": "2024-12-22T18:37:30.908748Z",
     "start_time": "2024-12-22T18:37:30.889743Z"
    }
   },
   "cell_type": "code",
   "source": [
    "def read_csv(path: str, body_column_name=BODY_COL_NAME, label_column_name=LABEL_COL_NAME) -> pd.DataFrame:\n",
    "    df = pd.read_csv(path, quotechar='\"', delimiter=',', usecols=[body_column_name, label_column_name])\n",
    "    df = df.reindex(columns=[body_column_name, label_column_name])\n",
    "    df.columns = [BODY_COL_NAME, LABEL_COL_NAME]\n",
    "    return df"
   ],
   "id": "9b50c6facee93e16",
   "outputs": [],
   "execution_count": 3
  },
  {
   "metadata": {
    "ExecuteTime": {
     "end_time": "2024-12-22T18:37:31.618107Z",
     "start_time": "2024-12-22T18:37:31.607104Z"
    }
   },
   "cell_type": "code",
   "source": [
    "def create_model() -> Model:\n",
    "    max_words = 10000\n",
    "    model = Sequential()\n",
    "    model.add(Embedding(input_dim=max_words + 1, output_dim=128))\n",
    "    model.add(Bidirectional(LSTM(units=64)))\n",
    "    model.add(Dense(units=1, activation='sigmoid'))\n",
    "\n",
    "    model.compile(loss='binary_crossentropy', optimizer='adam', metrics=['accuracy'])\n",
    "    print(model.summary())\n",
    "    return model\n",
    "\n"
   ],
   "id": "3c78291e77fa7f96",
   "outputs": [],
   "execution_count": 4
  },
  {
   "metadata": {
    "ExecuteTime": {
     "end_time": "2024-12-22T18:37:32.744101Z",
     "start_time": "2024-12-22T18:37:32.730098Z"
    }
   },
   "cell_type": "code",
   "source": [
    "def train_model(\n",
    "        model: Model,\n",
    "        X_train_pad: pd.DataFrame,\n",
    "        y_train: pd.DataFrame,\n",
    "        X_test_pad: pd.DataFrame,\n",
    "        y_test: pd.DataFrame,\n",
    "        epochs=5,\n",
    "):\n",
    "    return model.fit(\n",
    "        X_train_pad,\n",
    "        y_train,\n",
    "        epochs=epochs,\n",
    "        batch_size=32,\n",
    "        validation_data=(X_test_pad, y_test)\n",
    "    )"
   ],
   "id": "4bec695489dff7ee",
   "outputs": [],
   "execution_count": 5
  },
  {
   "metadata": {
    "ExecuteTime": {
     "end_time": "2024-12-22T18:37:33.994015Z",
     "start_time": "2024-12-22T18:37:33.976011Z"
    }
   },
   "cell_type": "code",
   "source": [
    "def validate_model(model: Model, X_test: pd.DataFrame, y_test: pd.DataFrame):\n",
    "    loss, accuracy = model.evaluate(X_test, y_test)\n",
    "    print(f'Test Accuracy: {accuracy:.2f}')\n"
   ],
   "id": "dd87905802597d62",
   "outputs": [],
   "execution_count": 6
  },
  {
   "metadata": {
    "ExecuteTime": {
     "end_time": "2024-12-22T18:37:34.395162Z",
     "start_time": "2024-12-22T18:37:34.379159Z"
    }
   },
   "cell_type": "code",
   "source": [
    "def train_test_prepare_data(df: pd.DataFrame) -> Tuple[pd.DataFrame, pd.DataFrame, pd.DataFrame, pd.DataFrame, Tokenizer]:\n",
    "    df[BODY_COL_NAME] = df[BODY_COL_NAME].apply(clean_text)\n",
    "    df = df.loc[df[BODY_COL_NAME].str.len() > 0]\n",
    "    X = df[BODY_COL_NAME]\n",
    "    y = df[LABEL_COL_NAME].values.astype(int)\n",
    "\n",
    "    X_train, X_test, y_train, y_test = train_test_split(X, y, test_size=0.2, random_state=RANDOM_SEED)\n",
    "    tokenizer = create_tokenizer(X_train)\n",
    "    X_train_pad = create_pad_sequences(tokenizer, X_train)\n",
    "    X_test_pad = create_pad_sequences(tokenizer, X_test)\n",
    "\n",
    "    return X_train_pad, X_test_pad, y_train, y_test, tokenizer\n"
   ],
   "id": "ef339d93ada20e0f",
   "outputs": [],
   "execution_count": 7
  },
  {
   "metadata": {
    "jupyter": {
     "is_executing": true
    },
    "ExecuteTime": {
     "start_time": "2024-12-22T18:38:39.832220Z"
    }
   },
   "cell_type": "code",
   "source": [
    "data = [\n",
    "    (f'{ROOT_DIR}data/original/spam.csv', 'text', LABEL_COL_NAME),\n",
    "    (f'{ROOT_DIR}data/original/phishing.csv', BODY_COL_NAME, LABEL_COL_NAME),\n",
    "    (f'{ROOT_DIR}data/original/fraud.csv', 'Body', 'Label'),\n",
    "]\n",
    "\n",
    "for file_path, body_col_name, label_col_name in data:\n",
    "    df = read_csv(file_path, body_column_name=body_col_name, label_column_name=label_col_name)\n",
    "    print(file_path)\n",
    "    print(df)\n",
    "    X_train_pad, X_test_pad, y_train, y_test, tokenizer = train_test_prepare_data(df)\n",
    "    model = create_model()\n",
    "    train_model(model, X_train_pad, y_train, X_test_pad, y_test, epochs=3)\n",
    "    validate_model(model, X_test_pad, y_test)\n",
    "    model_name = Path(file_path).name.replace('.csv', '')\n",
    "    save_model(model, f'{ROOT_DIR}models/{model_name}')\n",
    "    save_tokenizer(tokenizer, f'{ROOT_DIR}tokenizers/{model_name}')\n",
    "\n"
   ],
   "id": "81e792c71aad2556",
   "outputs": [
    {
     "name": "stdout",
     "output_type": "stream",
     "text": [
      "../../data/original/spam.csv\n",
      "                                                    body  label\n",
      "0      ounce feather bowl hummingbird opec moment ala...      1\n",
      "1      wulvob get your medircations online qnb ikud v...      1\n",
      "2       computer connection from cnn com wednesday es...      0\n",
      "3      university degree obtain a prosperous future m...      1\n",
      "4      thanks for all your answers guys i know i shou...      0\n",
      "...                                                  ...    ...\n",
      "83443  hi given a date how do i get the last date of ...      0\n",
      "83444  now you can order software on cd or download i...      1\n",
      "83445  dear valued member canadianpharmacy provides a...      1\n",
      "83446  subscribe change profile contact us long term ...      0\n",
      "83447  get the most out of life ! viagra has helped m...      1\n",
      "\n",
      "[83448 rows x 2 columns]\n"
     ]
    }
   ],
   "execution_count": null
  },
  {
   "metadata": {},
   "cell_type": "code",
   "outputs": [],
   "execution_count": null,
   "source": "",
   "id": "d0bb53bac4063ed4"
  }
 ],
 "metadata": {
  "kernelspec": {
   "display_name": "Python 3",
   "language": "python",
   "name": "python3"
  },
  "language_info": {
   "codemirror_mode": {
    "name": "ipython",
    "version": 2
   },
   "file_extension": ".py",
   "mimetype": "text/x-python",
   "name": "python",
   "nbconvert_exporter": "python",
   "pygments_lexer": "ipython2",
   "version": "2.7.6"
  }
 },
 "nbformat": 4,
 "nbformat_minor": 5
}
